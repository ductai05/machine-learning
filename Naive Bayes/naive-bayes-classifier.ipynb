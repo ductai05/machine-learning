{
 "metadata": {
  "kernelspec": {
   "language": "python",
   "display_name": "Python 3",
   "name": "python3"
  },
  "language_info": {
   "name": "python",
   "version": "3.11.11",
   "mimetype": "text/x-python",
   "codemirror_mode": {
    "name": "ipython",
    "version": 3
   },
   "pygments_lexer": "ipython3",
   "nbconvert_exporter": "python",
   "file_extension": ".py"
  },
  "kaggle": {
   "accelerator": "none",
   "dataSources": [
    {
     "sourceId": 12105490,
     "sourceType": "datasetVersion",
     "datasetId": 7621262
    }
   ],
   "dockerImageVersionId": 31040,
   "isInternetEnabled": true,
   "language": "python",
   "sourceType": "notebook",
   "isGpuEnabled": false
  }
 },
 "nbformat_minor": 4,
 "nbformat": 4,
 "cells": [
  {
   "cell_type": "code",
   "source": [
    "import pandas as pd\n",
    "import numpy as np\n",
    "import matplotlib.pyplot as plt\n",
    "from collections import Counter\n",
    "from scipy.sparse import csr_matrix"
   ],
   "metadata": {
    "_uuid": "8f2839f25d086af736a60e9eeb907d3b93b6e0e5",
    "_cell_guid": "b1076dfc-b9ad-4769-8c92-a6c4dae69d19",
    "trusted": true,
    "execution": {
     "iopub.status.busy": "2025-06-15T01:16:42.676486Z",
     "iopub.execute_input": "2025-06-15T01:16:42.676717Z",
     "iopub.status.idle": "2025-06-15T01:16:42.680000Z",
     "shell.execute_reply.started": "2025-06-15T01:16:42.676703Z",
     "shell.execute_reply": "2025-06-15T01:16:42.679286Z"
    },
    "ExecuteTime": {
     "end_time": "2025-06-17T10:12:45.992230Z",
     "start_time": "2025-06-17T10:12:45.907721Z"
    }
   },
   "outputs": [],
   "execution_count": 72
  },
  {
   "cell_type": "markdown",
   "source": "# 1.  Tập dữ liệu Enron-Spam\n## Tải tập dữ liệu",
   "metadata": {}
  },
  {
   "cell_type": "code",
   "source": [
    "base_file_path = '.'\n",
    "train_file_path = f'{base_file_path}/train.csv'\n",
    "val_file_path = f'{base_file_path}/val.csv'"
   ],
   "metadata": {
    "trusted": true,
    "execution": {
     "iopub.status.busy": "2025-06-15T01:16:42.693802Z",
     "iopub.execute_input": "2025-06-15T01:16:42.694021Z",
     "iopub.status.idle": "2025-06-15T01:16:42.696986Z",
     "shell.execute_reply.started": "2025-06-15T01:16:42.694007Z",
     "shell.execute_reply": "2025-06-15T01:16:42.696416Z"
    },
    "ExecuteTime": {
     "end_time": "2025-06-17T10:12:46.188112Z",
     "start_time": "2025-06-17T10:12:46.159076Z"
    }
   },
   "outputs": [],
   "execution_count": 73
  },
  {
   "cell_type": "code",
   "source": "df_train = pd.read_csv(train_file_path, index_col = 0)\ndf_val = pd.read_csv(val_file_path, index_col = 0)",
   "metadata": {
    "trusted": true,
    "execution": {
     "iopub.status.busy": "2025-06-15T01:16:42.723312Z",
     "iopub.execute_input": "2025-06-15T01:16:42.723525Z",
     "iopub.status.idle": "2025-06-15T01:16:43.074616Z",
     "shell.execute_reply.started": "2025-06-15T01:16:42.723511Z",
     "shell.execute_reply": "2025-06-15T01:16:43.073999Z"
    },
    "ExecuteTime": {
     "end_time": "2025-06-17T10:12:47.896983Z",
     "start_time": "2025-06-17T10:12:46.255263Z"
    }
   },
   "outputs": [],
   "execution_count": 74
  },
  {
   "cell_type": "code",
   "source": "df_train.info()",
   "metadata": {
    "trusted": true,
    "execution": {
     "iopub.status.busy": "2025-06-15T01:16:43.075572Z",
     "iopub.execute_input": "2025-06-15T01:16:43.075730Z",
     "iopub.status.idle": "2025-06-15T01:16:43.087932Z",
     "shell.execute_reply.started": "2025-06-15T01:16:43.075716Z",
     "shell.execute_reply": "2025-06-15T01:16:43.087362Z"
    },
    "ExecuteTime": {
     "end_time": "2025-06-17T10:12:48.214393Z",
     "start_time": "2025-06-17T10:12:47.971414Z"
    }
   },
   "outputs": [
    {
     "name": "stdout",
     "output_type": "stream",
     "text": [
      "<class 'pandas.core.frame.DataFrame'>\n",
      "Index: 27284 entries, 0 to 33715\n",
      "Data columns (total 5 columns):\n",
      " #   Column      Non-Null Count  Dtype  \n",
      "---  ------      --------------  -----  \n",
      " 0   Message ID  27284 non-null  int64  \n",
      " 1   Subject     27055 non-null  object \n",
      " 2   Message     26932 non-null  object \n",
      " 3   Spam/Ham    27284 non-null  object \n",
      " 4   split       27284 non-null  float64\n",
      "dtypes: float64(1), int64(1), object(3)\n",
      "memory usage: 1.2+ MB\n"
     ]
    }
   ],
   "execution_count": 75
  },
  {
   "cell_type": "code",
   "source": "df_val.info()",
   "metadata": {
    "trusted": true,
    "execution": {
     "iopub.status.busy": "2025-06-15T01:16:43.088487Z",
     "iopub.execute_input": "2025-06-15T01:16:43.088649Z",
     "iopub.status.idle": "2025-06-15T01:16:43.095507Z",
     "shell.execute_reply.started": "2025-06-15T01:16:43.088637Z",
     "shell.execute_reply": "2025-06-15T01:16:43.094818Z"
    },
    "ExecuteTime": {
     "end_time": "2025-06-17T10:12:48.404786Z",
     "start_time": "2025-06-17T10:12:48.382311Z"
    }
   },
   "outputs": [
    {
     "name": "stdout",
     "output_type": "stream",
     "text": [
      "<class 'pandas.core.frame.DataFrame'>\n",
      "Index: 3084 entries, 23 to 33692\n",
      "Data columns (total 5 columns):\n",
      " #   Column      Non-Null Count  Dtype  \n",
      "---  ------      --------------  -----  \n",
      " 0   Message ID  3084 non-null   int64  \n",
      " 1   Subject     3055 non-null   object \n",
      " 2   Message     3049 non-null   object \n",
      " 3   Spam/Ham    3084 non-null   object \n",
      " 4   split       3084 non-null   float64\n",
      "dtypes: float64(1), int64(1), object(3)\n",
      "memory usage: 144.6+ KB\n"
     ]
    }
   ],
   "execution_count": 76
  },
  {
   "cell_type": "code",
   "source": "df_train.head()",
   "metadata": {
    "trusted": true,
    "execution": {
     "iopub.status.busy": "2025-06-15T01:16:43.096876Z",
     "iopub.execute_input": "2025-06-15T01:16:43.097060Z",
     "iopub.status.idle": "2025-06-15T01:16:43.103241Z",
     "shell.execute_reply.started": "2025-06-15T01:16:43.097048Z",
     "shell.execute_reply": "2025-06-15T01:16:43.102686Z"
    },
    "ExecuteTime": {
     "end_time": "2025-06-17T10:12:48.632765Z",
     "start_time": "2025-06-17T10:12:48.589696Z"
    }
   },
   "outputs": [
    {
     "data": {
      "text/plain": [
       "   Message ID                       Subject  \\\n",
       "0           0  christmas tree farm pictures   \n",
       "1           1      vastar resources , inc .   \n",
       "2           2  calpine daily gas nomination   \n",
       "3           3                    re : issue   \n",
       "5           5      mcmullen gas for 11 / 99   \n",
       "\n",
       "                                             Message Spam/Ham     split  \n",
       "0                                                NaN      ham  0.038415  \n",
       "1  gary , production from the high island larger ...      ham  0.696509  \n",
       "2             - calpine daily gas nomination 1 . doc      ham  0.587792  \n",
       "3  fyi - see note below - already done .\\nstella\\...      ham -0.055438  \n",
       "5  jackie ,\\nsince the inlet to 3 river plant is ...      ham -0.419658  "
      ],
      "text/html": [
       "<div>\n",
       "<style scoped>\n",
       "    .dataframe tbody tr th:only-of-type {\n",
       "        vertical-align: middle;\n",
       "    }\n",
       "\n",
       "    .dataframe tbody tr th {\n",
       "        vertical-align: top;\n",
       "    }\n",
       "\n",
       "    .dataframe thead th {\n",
       "        text-align: right;\n",
       "    }\n",
       "</style>\n",
       "<table border=\"1\" class=\"dataframe\">\n",
       "  <thead>\n",
       "    <tr style=\"text-align: right;\">\n",
       "      <th></th>\n",
       "      <th>Message ID</th>\n",
       "      <th>Subject</th>\n",
       "      <th>Message</th>\n",
       "      <th>Spam/Ham</th>\n",
       "      <th>split</th>\n",
       "    </tr>\n",
       "  </thead>\n",
       "  <tbody>\n",
       "    <tr>\n",
       "      <th>0</th>\n",
       "      <td>0</td>\n",
       "      <td>christmas tree farm pictures</td>\n",
       "      <td>NaN</td>\n",
       "      <td>ham</td>\n",
       "      <td>0.038415</td>\n",
       "    </tr>\n",
       "    <tr>\n",
       "      <th>1</th>\n",
       "      <td>1</td>\n",
       "      <td>vastar resources , inc .</td>\n",
       "      <td>gary , production from the high island larger ...</td>\n",
       "      <td>ham</td>\n",
       "      <td>0.696509</td>\n",
       "    </tr>\n",
       "    <tr>\n",
       "      <th>2</th>\n",
       "      <td>2</td>\n",
       "      <td>calpine daily gas nomination</td>\n",
       "      <td>- calpine daily gas nomination 1 . doc</td>\n",
       "      <td>ham</td>\n",
       "      <td>0.587792</td>\n",
       "    </tr>\n",
       "    <tr>\n",
       "      <th>3</th>\n",
       "      <td>3</td>\n",
       "      <td>re : issue</td>\n",
       "      <td>fyi - see note below - already done .\\nstella\\...</td>\n",
       "      <td>ham</td>\n",
       "      <td>-0.055438</td>\n",
       "    </tr>\n",
       "    <tr>\n",
       "      <th>5</th>\n",
       "      <td>5</td>\n",
       "      <td>mcmullen gas for 11 / 99</td>\n",
       "      <td>jackie ,\\nsince the inlet to 3 river plant is ...</td>\n",
       "      <td>ham</td>\n",
       "      <td>-0.419658</td>\n",
       "    </tr>\n",
       "  </tbody>\n",
       "</table>\n",
       "</div>"
      ]
     },
     "execution_count": 77,
     "metadata": {},
     "output_type": "execute_result"
    }
   ],
   "execution_count": 77
  },
  {
   "cell_type": "code",
   "source": "df_val.head()",
   "metadata": {
    "trusted": true,
    "execution": {
     "iopub.status.busy": "2025-06-15T01:16:43.103720Z",
     "iopub.execute_input": "2025-06-15T01:16:43.103912Z",
     "iopub.status.idle": "2025-06-15T01:16:43.110389Z",
     "shell.execute_reply.started": "2025-06-15T01:16:43.103897Z",
     "shell.execute_reply": "2025-06-15T01:16:43.109811Z"
    },
    "ExecuteTime": {
     "end_time": "2025-06-17T10:12:49.140979Z",
     "start_time": "2025-06-17T10:12:49.120546Z"
    }
   },
   "outputs": [
    {
     "data": {
      "text/plain": [
       "    Message ID                                      Subject  \\\n",
       "23          23                                miscellaneous   \n",
       "24          24  re : purge of old contract _ event _ status   \n",
       "32          32                         valero 8018 and 1394   \n",
       "37          37               01 / 00 natural gas nomination   \n",
       "43          43                        re : misc . questions   \n",
       "\n",
       "                                              Message Spam/Ham     split  \n",
       "23  - - - - - - - - - - - - - - - - - - - - - - fo...      ham -0.351998  \n",
       "24  fyi - what do you all think ?\\n- - - - - - - -...      ham  0.257704  \n",
       "32  it is my understanding the outages valero incu...      ham  0.091200  \n",
       "37  enron methanol company nominates the following...      ham -1.745133  \n",
       "43  - - - - - - - - - - - - - - - - - - - - - - fo...      ham -1.911987  "
      ],
      "text/html": [
       "<div>\n",
       "<style scoped>\n",
       "    .dataframe tbody tr th:only-of-type {\n",
       "        vertical-align: middle;\n",
       "    }\n",
       "\n",
       "    .dataframe tbody tr th {\n",
       "        vertical-align: top;\n",
       "    }\n",
       "\n",
       "    .dataframe thead th {\n",
       "        text-align: right;\n",
       "    }\n",
       "</style>\n",
       "<table border=\"1\" class=\"dataframe\">\n",
       "  <thead>\n",
       "    <tr style=\"text-align: right;\">\n",
       "      <th></th>\n",
       "      <th>Message ID</th>\n",
       "      <th>Subject</th>\n",
       "      <th>Message</th>\n",
       "      <th>Spam/Ham</th>\n",
       "      <th>split</th>\n",
       "    </tr>\n",
       "  </thead>\n",
       "  <tbody>\n",
       "    <tr>\n",
       "      <th>23</th>\n",
       "      <td>23</td>\n",
       "      <td>miscellaneous</td>\n",
       "      <td>- - - - - - - - - - - - - - - - - - - - - - fo...</td>\n",
       "      <td>ham</td>\n",
       "      <td>-0.351998</td>\n",
       "    </tr>\n",
       "    <tr>\n",
       "      <th>24</th>\n",
       "      <td>24</td>\n",
       "      <td>re : purge of old contract _ event _ status</td>\n",
       "      <td>fyi - what do you all think ?\\n- - - - - - - -...</td>\n",
       "      <td>ham</td>\n",
       "      <td>0.257704</td>\n",
       "    </tr>\n",
       "    <tr>\n",
       "      <th>32</th>\n",
       "      <td>32</td>\n",
       "      <td>valero 8018 and 1394</td>\n",
       "      <td>it is my understanding the outages valero incu...</td>\n",
       "      <td>ham</td>\n",
       "      <td>0.091200</td>\n",
       "    </tr>\n",
       "    <tr>\n",
       "      <th>37</th>\n",
       "      <td>37</td>\n",
       "      <td>01 / 00 natural gas nomination</td>\n",
       "      <td>enron methanol company nominates the following...</td>\n",
       "      <td>ham</td>\n",
       "      <td>-1.745133</td>\n",
       "    </tr>\n",
       "    <tr>\n",
       "      <th>43</th>\n",
       "      <td>43</td>\n",
       "      <td>re : misc . questions</td>\n",
       "      <td>- - - - - - - - - - - - - - - - - - - - - - fo...</td>\n",
       "      <td>ham</td>\n",
       "      <td>-1.911987</td>\n",
       "    </tr>\n",
       "  </tbody>\n",
       "</table>\n",
       "</div>"
      ]
     },
     "execution_count": 78,
     "metadata": {},
     "output_type": "execute_result"
    }
   ],
   "execution_count": 78
  },
  {
   "cell_type": "markdown",
   "source": "# 2. Tiền xử lý dữ liệu\n# Sau khi khám phá dữ liệu:\n- Các cột có giá trị bị thiếu (Nan) là: Subject, Message\n- Không tồn tại các dòng lặp\n- Nội dung Subject, Message bao gồm các ký tự chữ (in hoa, in thường), số, ký tự đặc biệt và các dấu câu\n# Phương pháp tiền xử lý dữ liệu:\n- Chuyển đổi nhãn 'ham'/'spam' thành số 0/1\n- Xử lý giá trị thiếu (Nan) bằng chuỗi ký tự rỗng\n- Chuẩn hóa văn bản, chuyển thành chữ thường\n- Kết hợp Subject và Message thành một cột văn bản duy nhất",
   "metadata": {}
  },
  {
   "cell_type": "code",
   "source": "# Xử lý giá trị thiếu (Nan) bằng chuỗi ký tự rỗng\ndf_train['Subject'] = df_train['Subject'].fillna('')\ndf_train['Message'] = df_train['Message'].fillna('')\n\ndf_val['Subject'] = df_val['Subject'].fillna('')\ndf_val['Message'] = df_val['Message'].fillna('')",
   "metadata": {
    "trusted": true,
    "execution": {
     "iopub.status.busy": "2025-06-15T01:16:43.110985Z",
     "iopub.execute_input": "2025-06-15T01:16:43.111120Z",
     "iopub.status.idle": "2025-06-15T01:16:43.123320Z",
     "shell.execute_reply.started": "2025-06-15T01:16:43.111105Z",
     "shell.execute_reply": "2025-06-15T01:16:43.122739Z"
    },
    "ExecuteTime": {
     "end_time": "2025-06-17T10:12:49.536118Z",
     "start_time": "2025-06-17T10:12:49.499270Z"
    }
   },
   "outputs": [],
   "execution_count": 79
  },
  {
   "cell_type": "code",
   "source": "# Kết hợp Subject và Message thành một cột văn bản duy nhất\ndf_train['full_text'] = df_train['Subject'] + \" \" + df_train['Message']\ndf_val['full_text'] = df_val['Subject'] + \" \" + df_val['Message']",
   "metadata": {
    "trusted": true,
    "execution": {
     "iopub.status.busy": "2025-06-15T01:16:43.124127Z",
     "iopub.execute_input": "2025-06-15T01:16:43.124650Z",
     "iopub.status.idle": "2025-06-15T01:16:43.162792Z",
     "shell.execute_reply.started": "2025-06-15T01:16:43.124633Z",
     "shell.execute_reply": "2025-06-15T01:16:43.162216Z"
    },
    "ExecuteTime": {
     "end_time": "2025-06-17T10:12:50.371280Z",
     "start_time": "2025-06-17T10:12:49.846901Z"
    }
   },
   "outputs": [],
   "execution_count": 80
  },
  {
   "cell_type": "code",
   "source": "# Chuẩn hóa văn bản, chuyển thành chữ thường\ndef preprocess_text(text):\n    text = text.lower()        \n    return text\n\ndf_train['full_text'] = df_train['full_text'].apply(preprocess_text)\ndf_val['full_text'] = df_val['full_text'].apply(preprocess_text)",
   "metadata": {
    "trusted": true,
    "execution": {
     "iopub.status.busy": "2025-06-15T01:16:43.163260Z",
     "iopub.execute_input": "2025-06-15T01:16:43.163404Z",
     "iopub.status.idle": "2025-06-15T01:16:43.239244Z",
     "shell.execute_reply.started": "2025-06-15T01:16:43.163392Z",
     "shell.execute_reply": "2025-06-15T01:16:43.238485Z"
    },
    "ExecuteTime": {
     "end_time": "2025-06-17T10:12:50.698669Z",
     "start_time": "2025-06-17T10:12:50.411214Z"
    }
   },
   "outputs": [],
   "execution_count": 81
  },
  {
   "cell_type": "code",
   "source": "# Chuyển đổi nhãn 'ham'/'spam' thành số 0/1\nlabel_mapping = {'ham': 0, 'spam': 1}\ndf_train['label'] = df_train['Spam/Ham'].map(label_mapping)\ndf_val['label'] = df_val['Spam/Ham'].map(label_mapping)",
   "metadata": {
    "trusted": true,
    "execution": {
     "iopub.status.busy": "2025-06-15T01:16:43.239999Z",
     "iopub.execute_input": "2025-06-15T01:16:43.240207Z",
     "iopub.status.idle": "2025-06-15T01:16:43.246235Z",
     "shell.execute_reply.started": "2025-06-15T01:16:43.240191Z",
     "shell.execute_reply": "2025-06-15T01:16:43.245627Z"
    },
    "ExecuteTime": {
     "end_time": "2025-06-17T10:12:50.757532Z",
     "start_time": "2025-06-17T10:12:50.737197Z"
    }
   },
   "outputs": [],
   "execution_count": 82
  },
  {
   "cell_type": "code",
   "source": "print('Size of df_train:',len(df_train))\ndf_train.head()",
   "metadata": {
    "trusted": true,
    "execution": {
     "iopub.status.busy": "2025-06-15T01:16:43.248014Z",
     "iopub.execute_input": "2025-06-15T01:16:43.248177Z",
     "iopub.status.idle": "2025-06-15T01:16:43.256344Z",
     "shell.execute_reply.started": "2025-06-15T01:16:43.248164Z",
     "shell.execute_reply": "2025-06-15T01:16:43.255740Z"
    },
    "ExecuteTime": {
     "end_time": "2025-06-17T10:12:50.879912Z",
     "start_time": "2025-06-17T10:12:50.853020Z"
    }
   },
   "outputs": [
    {
     "name": "stdout",
     "output_type": "stream",
     "text": [
      "Size of df_train: 27284\n"
     ]
    },
    {
     "data": {
      "text/plain": [
       "   Message ID                       Subject  \\\n",
       "0           0  christmas tree farm pictures   \n",
       "1           1      vastar resources , inc .   \n",
       "2           2  calpine daily gas nomination   \n",
       "3           3                    re : issue   \n",
       "5           5      mcmullen gas for 11 / 99   \n",
       "\n",
       "                                             Message Spam/Ham     split  \\\n",
       "0                                                         ham  0.038415   \n",
       "1  gary , production from the high island larger ...      ham  0.696509   \n",
       "2             - calpine daily gas nomination 1 . doc      ham  0.587792   \n",
       "3  fyi - see note below - already done .\\nstella\\...      ham -0.055438   \n",
       "5  jackie ,\\nsince the inlet to 3 river plant is ...      ham -0.419658   \n",
       "\n",
       "                                           full_text  label  \n",
       "0                      christmas tree farm pictures       0  \n",
       "1  vastar resources , inc . gary , production fro...      0  \n",
       "2  calpine daily gas nomination - calpine daily g...      0  \n",
       "3  re : issue fyi - see note below - already done...      0  \n",
       "5  mcmullen gas for 11 / 99 jackie ,\\nsince the i...      0  "
      ],
      "text/html": [
       "<div>\n",
       "<style scoped>\n",
       "    .dataframe tbody tr th:only-of-type {\n",
       "        vertical-align: middle;\n",
       "    }\n",
       "\n",
       "    .dataframe tbody tr th {\n",
       "        vertical-align: top;\n",
       "    }\n",
       "\n",
       "    .dataframe thead th {\n",
       "        text-align: right;\n",
       "    }\n",
       "</style>\n",
       "<table border=\"1\" class=\"dataframe\">\n",
       "  <thead>\n",
       "    <tr style=\"text-align: right;\">\n",
       "      <th></th>\n",
       "      <th>Message ID</th>\n",
       "      <th>Subject</th>\n",
       "      <th>Message</th>\n",
       "      <th>Spam/Ham</th>\n",
       "      <th>split</th>\n",
       "      <th>full_text</th>\n",
       "      <th>label</th>\n",
       "    </tr>\n",
       "  </thead>\n",
       "  <tbody>\n",
       "    <tr>\n",
       "      <th>0</th>\n",
       "      <td>0</td>\n",
       "      <td>christmas tree farm pictures</td>\n",
       "      <td></td>\n",
       "      <td>ham</td>\n",
       "      <td>0.038415</td>\n",
       "      <td>christmas tree farm pictures</td>\n",
       "      <td>0</td>\n",
       "    </tr>\n",
       "    <tr>\n",
       "      <th>1</th>\n",
       "      <td>1</td>\n",
       "      <td>vastar resources , inc .</td>\n",
       "      <td>gary , production from the high island larger ...</td>\n",
       "      <td>ham</td>\n",
       "      <td>0.696509</td>\n",
       "      <td>vastar resources , inc . gary , production fro...</td>\n",
       "      <td>0</td>\n",
       "    </tr>\n",
       "    <tr>\n",
       "      <th>2</th>\n",
       "      <td>2</td>\n",
       "      <td>calpine daily gas nomination</td>\n",
       "      <td>- calpine daily gas nomination 1 . doc</td>\n",
       "      <td>ham</td>\n",
       "      <td>0.587792</td>\n",
       "      <td>calpine daily gas nomination - calpine daily g...</td>\n",
       "      <td>0</td>\n",
       "    </tr>\n",
       "    <tr>\n",
       "      <th>3</th>\n",
       "      <td>3</td>\n",
       "      <td>re : issue</td>\n",
       "      <td>fyi - see note below - already done .\\nstella\\...</td>\n",
       "      <td>ham</td>\n",
       "      <td>-0.055438</td>\n",
       "      <td>re : issue fyi - see note below - already done...</td>\n",
       "      <td>0</td>\n",
       "    </tr>\n",
       "    <tr>\n",
       "      <th>5</th>\n",
       "      <td>5</td>\n",
       "      <td>mcmullen gas for 11 / 99</td>\n",
       "      <td>jackie ,\\nsince the inlet to 3 river plant is ...</td>\n",
       "      <td>ham</td>\n",
       "      <td>-0.419658</td>\n",
       "      <td>mcmullen gas for 11 / 99 jackie ,\\nsince the i...</td>\n",
       "      <td>0</td>\n",
       "    </tr>\n",
       "  </tbody>\n",
       "</table>\n",
       "</div>"
      ]
     },
     "execution_count": 83,
     "metadata": {},
     "output_type": "execute_result"
    }
   ],
   "execution_count": 83
  },
  {
   "cell_type": "code",
   "source": "print('Size of df_val:',len(df_val))\ndf_val.head()",
   "metadata": {
    "trusted": true,
    "execution": {
     "iopub.status.busy": "2025-06-15T01:16:43.256902Z",
     "iopub.execute_input": "2025-06-15T01:16:43.257043Z",
     "iopub.status.idle": "2025-06-15T01:16:43.265044Z",
     "shell.execute_reply.started": "2025-06-15T01:16:43.257030Z",
     "shell.execute_reply": "2025-06-15T01:16:43.264462Z"
    },
    "ExecuteTime": {
     "end_time": "2025-06-17T10:12:51.218834Z",
     "start_time": "2025-06-17T10:12:51.191401Z"
    }
   },
   "outputs": [
    {
     "name": "stdout",
     "output_type": "stream",
     "text": [
      "Size of df_val: 3084\n"
     ]
    },
    {
     "data": {
      "text/plain": [
       "    Message ID                                      Subject  \\\n",
       "23          23                                miscellaneous   \n",
       "24          24  re : purge of old contract _ event _ status   \n",
       "32          32                         valero 8018 and 1394   \n",
       "37          37               01 / 00 natural gas nomination   \n",
       "43          43                        re : misc . questions   \n",
       "\n",
       "                                              Message Spam/Ham     split  \\\n",
       "23  - - - - - - - - - - - - - - - - - - - - - - fo...      ham -0.351998   \n",
       "24  fyi - what do you all think ?\\n- - - - - - - -...      ham  0.257704   \n",
       "32  it is my understanding the outages valero incu...      ham  0.091200   \n",
       "37  enron methanol company nominates the following...      ham -1.745133   \n",
       "43  - - - - - - - - - - - - - - - - - - - - - - fo...      ham -1.911987   \n",
       "\n",
       "                                            full_text  label  \n",
       "23  miscellaneous - - - - - - - - - - - - - - - - ...      0  \n",
       "24  re : purge of old contract _ event _ status fy...      0  \n",
       "32  valero 8018 and 1394 it is my understanding th...      0  \n",
       "37  01 / 00 natural gas nomination enron methanol ...      0  \n",
       "43  re : misc . questions - - - - - - - - - - - - ...      0  "
      ],
      "text/html": [
       "<div>\n",
       "<style scoped>\n",
       "    .dataframe tbody tr th:only-of-type {\n",
       "        vertical-align: middle;\n",
       "    }\n",
       "\n",
       "    .dataframe tbody tr th {\n",
       "        vertical-align: top;\n",
       "    }\n",
       "\n",
       "    .dataframe thead th {\n",
       "        text-align: right;\n",
       "    }\n",
       "</style>\n",
       "<table border=\"1\" class=\"dataframe\">\n",
       "  <thead>\n",
       "    <tr style=\"text-align: right;\">\n",
       "      <th></th>\n",
       "      <th>Message ID</th>\n",
       "      <th>Subject</th>\n",
       "      <th>Message</th>\n",
       "      <th>Spam/Ham</th>\n",
       "      <th>split</th>\n",
       "      <th>full_text</th>\n",
       "      <th>label</th>\n",
       "    </tr>\n",
       "  </thead>\n",
       "  <tbody>\n",
       "    <tr>\n",
       "      <th>23</th>\n",
       "      <td>23</td>\n",
       "      <td>miscellaneous</td>\n",
       "      <td>- - - - - - - - - - - - - - - - - - - - - - fo...</td>\n",
       "      <td>ham</td>\n",
       "      <td>-0.351998</td>\n",
       "      <td>miscellaneous - - - - - - - - - - - - - - - - ...</td>\n",
       "      <td>0</td>\n",
       "    </tr>\n",
       "    <tr>\n",
       "      <th>24</th>\n",
       "      <td>24</td>\n",
       "      <td>re : purge of old contract _ event _ status</td>\n",
       "      <td>fyi - what do you all think ?\\n- - - - - - - -...</td>\n",
       "      <td>ham</td>\n",
       "      <td>0.257704</td>\n",
       "      <td>re : purge of old contract _ event _ status fy...</td>\n",
       "      <td>0</td>\n",
       "    </tr>\n",
       "    <tr>\n",
       "      <th>32</th>\n",
       "      <td>32</td>\n",
       "      <td>valero 8018 and 1394</td>\n",
       "      <td>it is my understanding the outages valero incu...</td>\n",
       "      <td>ham</td>\n",
       "      <td>0.091200</td>\n",
       "      <td>valero 8018 and 1394 it is my understanding th...</td>\n",
       "      <td>0</td>\n",
       "    </tr>\n",
       "    <tr>\n",
       "      <th>37</th>\n",
       "      <td>37</td>\n",
       "      <td>01 / 00 natural gas nomination</td>\n",
       "      <td>enron methanol company nominates the following...</td>\n",
       "      <td>ham</td>\n",
       "      <td>-1.745133</td>\n",
       "      <td>01 / 00 natural gas nomination enron methanol ...</td>\n",
       "      <td>0</td>\n",
       "    </tr>\n",
       "    <tr>\n",
       "      <th>43</th>\n",
       "      <td>43</td>\n",
       "      <td>re : misc . questions</td>\n",
       "      <td>- - - - - - - - - - - - - - - - - - - - - - fo...</td>\n",
       "      <td>ham</td>\n",
       "      <td>-1.911987</td>\n",
       "      <td>re : misc . questions - - - - - - - - - - - - ...</td>\n",
       "      <td>0</td>\n",
       "    </tr>\n",
       "  </tbody>\n",
       "</table>\n",
       "</div>"
      ]
     },
     "execution_count": 84,
     "metadata": {},
     "output_type": "execute_result"
    }
   ],
   "execution_count": 84
  },
  {
   "cell_type": "code",
   "source": "X_train = df_train['full_text']\ny_train = df_train['label']\n\nX_val = df_val['full_text']\ny_val = df_val['label']",
   "metadata": {
    "trusted": true,
    "execution": {
     "iopub.status.busy": "2025-06-15T01:16:43.265617Z",
     "iopub.execute_input": "2025-06-15T01:16:43.265803Z",
     "iopub.status.idle": "2025-06-15T01:16:43.268869Z",
     "shell.execute_reply.started": "2025-06-15T01:16:43.265791Z",
     "shell.execute_reply": "2025-06-15T01:16:43.268318Z"
    },
    "ExecuteTime": {
     "end_time": "2025-06-17T10:12:51.673531Z",
     "start_time": "2025-06-17T10:12:51.659247Z"
    }
   },
   "outputs": [],
   "execution_count": 85
  },
  {
   "metadata": {},
   "cell_type": "markdown",
   "source": "## 3. Model Naive Bayes Classifier"
  },
  {
   "cell_type": "code",
   "source": [
    "class MyNaiveBayesClassifier:\n",
    "    def __init__(self, alpha=1.0):\n",
    "        \"\"\"\n",
    "        Khởi tạo classifier.\n",
    "        alpha: Tham số làm mịn Laplace.\n",
    "        log_class_priors_: Lưu trữ log của xác suất tiên nghiệm cho mỗi lớp.\n",
    "        log_likelihoods_: Lưu trữ log của xác suất khả năng cho mọi từ trong từ điển đối với mỗi lớp.\n",
    "        vocabulary_: Lưu trữ tập hợp tất cả các từ duy nhất xuất hiện trong toàn bộ tập dữ liệu huấn luyện.\n",
    "        word_to_index_: Lưu trữ các chỉ số của các từ trong từ điển.\n",
    "        vocab_size_: Kích thước của từ điển.\n",
    "        classes_: Lưu trữ danh sách các nhãn lớp duy nhất mà mô hình đã học được từ tập huấn luyện.\n",
    "        \"\"\"\n",
    "        self.alpha = alpha\n",
    "        self.log_class_priors_ = {}\n",
    "        self.log_likelihoods_ = {}\n",
    "        self.vocabulary_ = []\n",
    "        self.word_to_index_ = {}\n",
    "        self.vocab_size_ = 0\n",
    "        self.classes_ = np.array([])\n",
    "\n",
    "    def _build_vocabulary(self, X_texts, min_df = 1, max_df = 1.0):\n",
    "        \"\"\" Xây dựng từ điển từ danh sách các văn bản. \"\"\"\n",
    "        word_doc_counts = Counter()\n",
    "        all_unique_words_in_docs = []\n",
    "\n",
    "        for text in X_texts:\n",
    "            words_in_doc = set(text.split()) # Set các từ duy nhất trong tài liệu này\n",
    "            for word in words_in_doc:\n",
    "                word_doc_counts[word] += 1\n",
    "            all_unique_words_in_docs.append(words_in_doc) # Không cần thiết nếu chỉ xây dựng vocab\n",
    "\n",
    "        n_docs = len(X_texts)\n",
    "\n",
    "        actual_min_df = min_df if isinstance(min_df, int) else int(min_df * n_docs)\n",
    "        actual_max_df = max_df if isinstance(max_df, int) else int(max_df * n_docs)\n",
    "\n",
    "        filtered_vocabulary = []\n",
    "        for word, count in word_doc_counts.items():\n",
    "            if actual_min_df <= count <= actual_max_df:\n",
    "                filtered_vocabulary.append(word)\n",
    "\n",
    "        self.vocabulary_ = sorted(filtered_vocabulary)\n",
    "        self.word_to_index_ = {word: i for i, word in enumerate(self.vocabulary_)}\n",
    "        self.vocab_size_ = len(self.vocabulary_)\n",
    "\n",
    "        if self.vocab_size_ == 0:\n",
    "            print(\"Warning: Từ điển rỗng.\")\n",
    "\n",
    "    def _texts_to_sparse_bow_vectors(self, X_texts):\n",
    "        \"\"\" Chuyển danh sách văn bản thành ma trận CSR Bag-of-Words thưa. \"\"\"\n",
    "        if self.vocab_size_ == 0:\n",
    "            print(\"Warning: Từ điển rỗng, không thể tạo vector BoW.\")\n",
    "            return csr_matrix((len(X_texts), 0), dtype=int)\n",
    "\n",
    "        data = []\n",
    "        row_indices = []\n",
    "        col_indices = []\n",
    "\n",
    "        for i, text in enumerate(X_texts):\n",
    "            word_counts_in_doc = Counter(text.split())\n",
    "            for word, count in word_counts_in_doc.items():\n",
    "                if word in self.word_to_index_:\n",
    "                    j = self.word_to_index_[word]\n",
    "                    data.append(count)\n",
    "                    row_indices.append(i)\n",
    "                    col_indices.append(j)\n",
    "\n",
    "        sparse_bow_vectors = csr_matrix((data, (row_indices, col_indices)),\n",
    "                                        shape=(len(X_texts), self.vocab_size_),\n",
    "                                        dtype=int)\n",
    "        return sparse_bow_vectors\n",
    "    \n",
    "    def fit(self, X_train_text, y_train_labels, min_df=5, max_df=0.95):\n",
    "        if hasattr(X_train_text, 'tolist'): X_train_text = X_train_text.tolist()\n",
    "        if hasattr(y_train_labels, 'tolist'): y_train_labels = y_train_labels.tolist()\n",
    "\n",
    "        n_samples = len(X_train_text)\n",
    "        if n_samples == 0:\n",
    "            print(\"Warning: Tập huấn luyện rỗng.\")\n",
    "            return\n",
    "        if len(X_train_text) != len(y_train_labels):\n",
    "            print(\"Error: Độ dài X_train_text và y_train_labels không khớp.\")\n",
    "            return\n",
    "\n",
    "        self.classes_ = np.unique(y_train_labels)\n",
    "\n",
    "        # 1. Xây dựng từ điển\n",
    "        self._build_vocabulary(X_train_text, min_df=min_df, max_df=max_df)\n",
    "        if self.vocab_size_ == 0:\n",
    "            print(\"Error: Từ điển rỗng.\")\n",
    "            return\n",
    "        print(f\"Từ điển được xây dựng với {self.vocab_size_} từ.\")\n",
    "\n",
    "        # 2. Vector hóa ma trận BoW thưa\n",
    "        X_train_bow_sparse = self._texts_to_sparse_bow_vectors(X_train_text)\n",
    "\n",
    "        # 3. Tính xác suất tiên nghiệm P(Lớp)\n",
    "        for c in self.classes_:\n",
    "            count_c = sum(1 for label in y_train_labels if label == c)\n",
    "            self.log_class_priors_[c] = np.log(count_c / n_samples if n_samples > 0 else 1e-9)\n",
    "            self.log_likelihoods_[c] = {}\n",
    "\n",
    "        # 4. Tính word_counts_per_class và total_words_per_class từ ma trận BoW thưa\n",
    "        word_counts_per_class = {c: np.zeros(self.vocab_size_, dtype=np.float64) for c in self.classes_}\n",
    "        total_words_per_class = {c: 0.0 for c in self.classes_}\n",
    "\n",
    "        for i in range(n_samples):\n",
    "            label = y_train_labels[i]\n",
    "            doc_vector_sparse = X_train_bow_sparse.getrow(i)\n",
    "            for word_idx, count in zip(doc_vector_sparse.indices, doc_vector_sparse.data):\n",
    "                word_counts_per_class[label][word_idx] += count\n",
    "                total_words_per_class[label] += count\n",
    "\n",
    "        # 5. Tính xác suất khả năng P(từ | Lớp) với Laplace smoothing\n",
    "        for c in self.classes_:\n",
    "            current_total_words_in_class = total_words_per_class.get(c, 0.0)\n",
    "            denominator = current_total_words_in_class + self.alpha * self.vocab_size_\n",
    "\n",
    "            if denominator == 0:\n",
    "                denominator = 1e-9\n",
    "                print(f\"Warning: Denominator bằng 0 cho lớp {c} khi tính likelihood.\")\n",
    "\n",
    "            for word_idx in range(self.vocab_size_):\n",
    "                count_word_in_class = word_counts_per_class[c][word_idx]\n",
    "                numerator = count_word_in_class + self.alpha\n",
    "                self.log_likelihoods_[c][word_idx] = np.log(numerator / denominator)\n",
    "\n",
    "            self.log_likelihoods_[c]['<UNK_token_log_likelihood>'] = np.log(self.alpha / denominator)\n",
    "\n",
    "\n",
    "    def _predict_log_proba_single_bow(self, bow_vector_sparse_row):\n",
    "        \"\"\" Dự đoán log xác suất cho một vector BoW thưa. \"\"\"\n",
    "        log_probas = {}\n",
    "        if not self.classes_.size > 0 or self.vocab_size_ == 0:\n",
    "            return log_probas\n",
    "\n",
    "        for c in self.classes_:\n",
    "            log_probas[c] = self.log_class_priors_.get(c, np.log(1e-9))\n",
    "            for word_idx, count in zip(bow_vector_sparse_row.indices, bow_vector_sparse_row.data):\n",
    "                term_log_likelihood = self.log_likelihoods_.get(c, {}).get(word_idx,\n",
    "                                                                        self.log_likelihoods_.get(c,{}).get('<UNK_token_log_likelihood>', np.log(1e-9)))\n",
    "                log_probas[c] += term_log_likelihood * count\n",
    "        return log_probas\n",
    "\n",
    "    def predict(self, X_test_text):\n",
    "        predictions = []\n",
    "        if self.classes_.size == 0 or self.vocab_size_ == 0:\n",
    "            print(\"Error: Model chưa được huấn luyện hoặc từ điển rỗng.\")\n",
    "            default_pred = self.classes_[0] if self.classes_.size > 0 else 0\n",
    "            return [default_pred] * len(X_test_text)\n",
    "\n",
    "        if hasattr(X_test_text, 'tolist'): X_test_text = X_test_text.tolist()\n",
    "\n",
    "        X_test_bow_sparse = self._texts_to_sparse_bow_vectors(X_test_text)\n",
    "\n",
    "        if X_test_bow_sparse.shape[1] == 0 and self.vocab_size_ > 0:\n",
    "             print(\"Warning: Không có từ nào trong X_test_text thuộc từ điển đã học. Dự đoán mặc định.\")\n",
    "             default_pred = self.classes_[0] if self.classes_.size > 0 else 0\n",
    "             return [default_pred] * len(X_test_text)\n",
    "\n",
    "        for i in range(X_test_bow_sparse.shape[0]):\n",
    "            bow_vector_sparse_row = X_test_bow_sparse.getrow(i)\n",
    "            log_probas = self._predict_log_proba_single_bow(bow_vector_sparse_row)\n",
    "            \n",
    "            if not log_probas:\n",
    "                predictions.append(self.classes_[0] if self.classes_.size > 0 else 0)\n",
    "                continue\n",
    "            \n",
    "            best_class = max(log_probas, key=log_probas.get)\n",
    "            predictions.append(best_class)\n",
    "            \n",
    "        return np.array(predictions)"
   ],
   "metadata": {
    "trusted": true,
    "execution": {
     "iopub.status.busy": "2025-06-15T01:16:43.269445Z",
     "iopub.execute_input": "2025-06-15T01:16:43.269635Z",
     "iopub.status.idle": "2025-06-15T01:16:43.282753Z",
     "shell.execute_reply.started": "2025-06-15T01:16:43.269619Z",
     "shell.execute_reply": "2025-06-15T01:16:43.282152Z"
    },
    "ExecuteTime": {
     "end_time": "2025-06-17T10:12:52.705518Z",
     "start_time": "2025-06-17T10:12:52.605497Z"
    }
   },
   "outputs": [],
   "execution_count": 86
  },
  {
   "cell_type": "markdown",
   "source": "# Đánh giá thục tế",
   "metadata": {}
  },
  {
   "cell_type": "code",
   "source": "def calculate_confusion_matrix_elements(y_true, y_pred, pos_label = 1, neg_label = 0):\n    \"\"\"\n    Tính toán TP, TN, FP, FN từ nhãn thật và nhãn dự đoán.\n    pos_label: nhãn của lớp positive (spam: 1)\n    neg_label: nhãn của lớp negative (ham: 0)\n    \"\"\"\n    tp = 0  \n    tn = 0  \n    fp = 0 \n    fn = 0\n\n    y_true_list = np.array(y_true)\n    y_pred_list = np.array(y_pred)\n\n    for i in range(len(y_true)):\n        true_val = y_true_list[i]\n        pred_val = y_pred_list[i]\n\n        if true_val == pos_label and pred_val == pos_label:\n            tp += 1\n        elif true_val == neg_label and pred_val == neg_label:\n            tn += 1\n        elif true_val == neg_label and pred_val == pos_label:\n            fp += 1\n        elif true_val == pos_label and pred_val == neg_label: \n            fn += 1\n    return tp, tn, fp, fn\n\ndef my_accuracy_score(tp, tn, fp, fn):\n    total = tp + tn + fp + fn\n    if total == 0:\n        return 0.0\n    return (tp + tn) / total\n\ndef my_precision_score(tp, fp):\n    if (tp + fp) == 0:\n        return 0.0\n    return tp / (tp + fp)\n\ndef my_recall_score(tp, fn):\n    if (tp + fn) == 0:\n        return 0.0\n    return tp / (tp + fn)\n\ndef my_f1_score(precision, recall):\n    if (precision + recall) == 0:\n        return 0.0\n    return 2 * (precision * recall) / (precision + recall)",
   "metadata": {
    "trusted": true,
    "execution": {
     "iopub.status.busy": "2025-06-15T01:16:43.283203Z",
     "iopub.execute_input": "2025-06-15T01:16:43.283355Z",
     "iopub.status.idle": "2025-06-15T01:16:43.289088Z",
     "shell.execute_reply.started": "2025-06-15T01:16:43.283342Z",
     "shell.execute_reply": "2025-06-15T01:16:43.288421Z"
    },
    "ExecuteTime": {
     "end_time": "2025-06-17T10:12:53.084434Z",
     "start_time": "2025-06-17T10:12:53.050089Z"
    }
   },
   "outputs": [],
   "execution_count": 87
  },
  {
   "cell_type": "code",
   "source": [
    "def evaluate_model(y_true, y_pred, dataset_name=\"Dataset\", pos_label=1, neg_label=0, class_labels=None):\n",
    "    if len(y_true) == 0 or len(y_pred) == 0 or len(y_true) != len(y_pred):\n",
    "        print(f\"Error: Đầu vào {dataset_name} không hợp lệ len(y_true) = {len(y_true)}, len(y_pred) = {len(y_pred)}\")\n",
    "        return\n",
    "\n",
    "    if class_labels is None:\n",
    "        unique_labels = sorted(list(set(y_true) | set(y_pred)))\n",
    "        if len(unique_labels) == 1:\n",
    "             class_labels = [unique_labels[0], 1 - unique_labels[0]]\n",
    "        else:\n",
    "             class_labels = unique_labels[:2]\n",
    "\n",
    "    if pos_label not in class_labels or neg_label not in class_labels:\n",
    "        print(f\"Warning: pos_label ({pos_label}) hoặc neg_label ({neg_label}) không có trong class_labels ({class_labels})\")\n",
    "        if len(class_labels) >=2:\n",
    "            neg_label = class_labels[0]\n",
    "            pos_label = class_labels[1]\n",
    "        else: \n",
    "            # Chỉ có 1 lớp thì không thể tính precision/recall cho 2 lớp\n",
    "            print(f\"Chỉ có một lớp ({class_labels[0]}). Không thể tính precision/recall cho 2 lớp.\")\n",
    "\n",
    "            # Tính accuracy cho model\n",
    "            correct_predictions = sum(1 for yt, yp in zip(y_true, y_pred) if yt == yp)\n",
    "            accuracy_one_class = correct_predictions / len(y_true) if len(y_true) > 0 else 0\n",
    "            print(f\"--- Kết quả đánh giá trên {dataset_name} ---\")\n",
    "            print(f\"Accuracy (cho lớp {class_labels[0]}): {accuracy_one_class:.4f}\")\n",
    "\n",
    "            # Confusion Matrix 1x2\n",
    "            cm_one_class = np.array([[correct_predictions]])\n",
    "            print(\"\\nMa trận nhầm lẫn (1x1):\")\n",
    "            print(cm_one_class)\n",
    "            return\n",
    "\n",
    "\n",
    "    # Tính accuracy cho model\n",
    "    tp_pos, tn_pos, fp_pos, fn_pos = calculate_confusion_matrix_elements(y_true, y_pred, pos_label=pos_label, neg_label=neg_label)\n",
    "    accuracy = my_accuracy_score(tp_pos, tn_pos, fp_pos, fn_pos)\n",
    "\n",
    "    # Metrics cho lớp Positive (Spam)\n",
    "    precision_pos = my_precision_score(tp_pos, fp_pos)\n",
    "    recall_pos = my_recall_score(tp_pos, fn_pos)\n",
    "    f1_pos = my_f1_score(precision_pos, recall_pos)\n",
    "\n",
    "    # Metrics cho lớp Negative (Ham)\n",
    "    tp_neg = tn_pos\n",
    "    fp_neg = fn_pos\n",
    "    fn_neg = fp_pos\n",
    "\n",
    "    precision_neg = my_precision_score(tp_neg, fp_neg)\n",
    "    recall_neg = my_recall_score(tp_neg, fn_neg)\n",
    "    f1_neg = my_f1_score(precision_neg, recall_neg)\n",
    "\n",
    "    print(f\"--- Kết quả đánh giá trên {dataset_name} ---\")\n",
    "    print(f\"Accuracy: {accuracy:.4f}\")\n",
    "\n",
    "    print(f\"\\nMetrics cho lớp Positive ({pos_label}):\")\n",
    "    print(f\"  Precision: {precision_pos:.4f}\")\n",
    "    print(f\"  Recall: {recall_pos:.4f}\")\n",
    "    print(f\"  F1-Score: {f1_pos:.4f}\")\n",
    "\n",
    "    print(f\"\\nMetrics cho lớp Negative ({neg_label}):\")\n",
    "    print(f\"  Precision: {precision_neg:.4f}\")\n",
    "    print(f\"  Recall: {recall_neg:.4f}\")\n",
    "    print(f\"  F1-Score: {f1_neg:.4f}\")\n",
    "\n",
    "    # Confusion Matrix 2x2\n",
    "    print(\"\\nMa trận nhầm lẫn:\")\n",
    "    cm_display_order = class_labels\n",
    "    cm_data = np.zeros((2,2), dtype=int)\n",
    "\n",
    "    # Hàng 0: y_true là class_labels[0]\n",
    "    # Hàng 1: y_true là class_labels[1]\n",
    "    # Cột 0: y_pred là class_labels[0]\n",
    "    # Cột 1: y_pred là class_labels[1]\n",
    "\n",
    "    idx_neg = class_labels.index(neg_label)\n",
    "    idx_pos = class_labels.index(pos_label)\n",
    "\n",
    "    cm_data[idx_neg, idx_neg] = tn_pos\n",
    "    cm_data[idx_neg, idx_pos] = fp_pos\n",
    "    cm_data[idx_pos, idx_neg] = fn_pos\n",
    "    cm_data[idx_pos, idx_pos] = tp_pos\n",
    "    print(cm_data)"
   ],
   "metadata": {
    "trusted": true,
    "execution": {
     "iopub.status.busy": "2025-06-15T01:16:43.289704Z",
     "iopub.execute_input": "2025-06-15T01:16:43.289919Z",
     "iopub.status.idle": "2025-06-15T01:16:43.300029Z",
     "shell.execute_reply.started": "2025-06-15T01:16:43.289902Z",
     "shell.execute_reply": "2025-06-15T01:16:43.299391Z"
    },
    "ExecuteTime": {
     "end_time": "2025-06-17T10:12:53.249407Z",
     "start_time": "2025-06-17T10:12:53.199917Z"
    }
   },
   "outputs": [],
   "execution_count": 88
  },
  {
   "cell_type": "code",
   "source": "model = MyNaiveBayesClassifier(alpha=1.0)\nmodel.fit(X_train, y_train)",
   "metadata": {
    "trusted": true,
    "execution": {
     "iopub.status.busy": "2025-06-15T01:16:43.300726Z",
     "iopub.execute_input": "2025-06-15T01:16:43.300949Z",
     "iopub.status.idle": "2025-06-15T01:16:47.893497Z",
     "shell.execute_reply.started": "2025-06-15T01:16:43.300929Z",
     "shell.execute_reply": "2025-06-15T01:16:47.892888Z"
    },
    "ExecuteTime": {
     "end_time": "2025-06-17T10:13:33.980192Z",
     "start_time": "2025-06-17T10:12:53.311089Z"
    }
   },
   "outputs": [
    {
     "name": "stdout",
     "output_type": "stream",
     "text": [
      "Từ điển được xây dựng với 37830 từ.\n"
     ]
    }
   ],
   "execution_count": 89
  },
  {
   "cell_type": "code",
   "source": "y_train_pred = model.predict(X_train)\nevaluate_model(y_train, y_train_pred, dataset_name=\"Train Set\",\n                pos_label=1, neg_label=0,\n                class_labels=sorted(list(model.classes_)) if model.classes_.size > 0 else [0,1])",
   "metadata": {
    "trusted": true,
    "execution": {
     "iopub.status.busy": "2025-06-15T01:16:47.894166Z",
     "iopub.execute_input": "2025-06-15T01:16:47.894350Z",
     "iopub.status.idle": "2025-06-15T01:17:05.894246Z",
     "shell.execute_reply.started": "2025-06-15T01:16:47.894334Z",
     "shell.execute_reply": "2025-06-15T01:17:05.893577Z"
    },
    "ExecuteTime": {
     "end_time": "2025-06-17T10:14:33.872125Z",
     "start_time": "2025-06-17T10:13:34.116230Z"
    }
   },
   "outputs": [
    {
     "name": "stdout",
     "output_type": "stream",
     "text": [
      "--- Kết quả đánh giá trên Train Set ---\n",
      "Accuracy: 0.9859\n",
      "\n",
      "Metrics cho lớp Positive (1):\n",
      "  Precision: 0.9838\n",
      "  Recall: 0.9884\n",
      "  F1-Score: 0.9861\n",
      "\n",
      "Metrics cho lớp Negative (0):\n",
      "  Precision: 0.9880\n",
      "  Recall: 0.9832\n",
      "  F1-Score: 0.9856\n",
      "\n",
      "Ma trận nhầm lẫn:\n",
      "[[13201   225]\n",
      " [  161 13697]]\n"
     ]
    }
   ],
   "execution_count": 90
  },
  {
   "cell_type": "code",
   "source": "y_val_pred = model.predict(X_val)\nevaluate_model(y_val, y_val_pred, dataset_name=\"Validation Set\",\n                pos_label=1, neg_label=0,\n                class_labels=sorted(list(model.classes_)) if model.classes_.size > 0 else [0,1])",
   "metadata": {
    "trusted": true,
    "execution": {
     "iopub.status.busy": "2025-06-15T01:17:05.895171Z",
     "iopub.execute_input": "2025-06-15T01:17:05.895412Z",
     "iopub.status.idle": "2025-06-15T01:17:08.050745Z",
     "shell.execute_reply.started": "2025-06-15T01:17:05.895391Z",
     "shell.execute_reply": "2025-06-15T01:17:08.050182Z"
    },
    "ExecuteTime": {
     "end_time": "2025-06-17T10:14:37.809534Z",
     "start_time": "2025-06-17T10:14:33.961902Z"
    }
   },
   "outputs": [
    {
     "name": "stdout",
     "output_type": "stream",
     "text": [
      "--- Kết quả đánh giá trên Validation Set ---\n",
      "Accuracy: 0.9841\n",
      "\n",
      "Metrics cho lớp Positive (1):\n",
      "  Precision: 0.9834\n",
      "  Recall: 0.9853\n",
      "  F1-Score: 0.9843\n",
      "\n",
      "Metrics cho lớp Negative (0):\n",
      "  Precision: 0.9848\n",
      "  Recall: 0.9829\n",
      "  F1-Score: 0.9839\n",
      "\n",
      "Ma trận nhầm lẫn:\n",
      "[[1495   26]\n",
      " [  23 1540]]\n"
     ]
    }
   ],
   "execution_count": 91
  },
  {
   "cell_type": "markdown",
   "source": "# 4. Thử nghiệm thực tế\n## Chức năng 1: Nhập và dự đoán một email bất ỳ",
   "metadata": {}
  },
  {
   "cell_type": "code",
   "source": [
    "def predict_single_email(classifier, preprocessor, subject=None, message=None):\n",
    "    \"\"\"\n",
    "    Cho phép người dùng nhập tiêu đề và nội dung email, tiền xử lý và dự đoán email đó là spam/ham.\n",
    "    classifier: Mô hình phân loại email spam/ham\n",
    "    preprocessor: Hàm tiền xử lý\n",
    "    \"\"\"\n",
    "    if len(classifier.classes_) <= 0:\n",
    "        print(\"Error: Mô hình chưa được huấn luyện\")\n",
    "        return\n",
    "\n",
    "    if subject is None:\n",
    "        subject = input(\"Nhập tiêu đề email: \")\n",
    "    if message is None:\n",
    "        message = input(\"Nhập nội dung email: \")\n",
    "\n",
    "    full_email_text = subject + \" \" + message\n",
    "    processed_email = preprocessor(full_email_text)\n",
    "\n",
    "    print(f\"\\nNội dung đã xử lý: '{processed_email}'\")\n",
    "\n",
    "    email_bow_matrix_sparse = classifier._texts_to_sparse_bow_vectors([processed_email])\n",
    "    if email_bow_matrix_sparse.shape[0] == 0 or email_bow_matrix_sparse.shape[1] == 0 :\n",
    "        print(\"Không thể vector hóa email.\")\n",
    "        if classifier.log_class_priors_:\n",
    "            default_prediction_label = max(classifier.log_class_priors_, key=classifier.log_class_priors_.get)\n",
    "            class_name = \"Spam\" if default_prediction_label == 1 else \"Ham\"\n",
    "            print(f\"\\n>>> Dự đoán mặc định: Email này là {class_name.upper()} ({default_prediction_label}).\")\n",
    "        else:\n",
    "            print(\"\\n>>> Không thể đưa ra dự đoán mặc định do thiếu thông tin prior.\")\n",
    "        return\n",
    "\n",
    "    single_email_bow_vector_sparse_row = email_bow_matrix_sparse.getrow(0)\n",
    "    prediction_proba_log = classifier._predict_log_proba_single_bow(single_email_bow_vector_sparse_row)\n",
    "\n",
    "    if prediction_proba_log:\n",
    "        prediction_label = max(prediction_proba_log, key=prediction_proba_log.get)\n",
    "    else:\n",
    "        print(\"Không thể tính toán log probabilities.\")\n",
    "        prediction_label = classifier.classes_[0] if classifier.classes_.size > 0 else 0\n",
    "\n",
    "    print(\"Log probabilities cho các lớp:\")\n",
    "    if prediction_proba_log:\n",
    "        for class_val, log_prob in prediction_proba_log.items():\n",
    "            class_name = \"Spam\" if class_val == 1 else \"Ham\"\n",
    "            print(f\"  Lớp {class_name} ({class_val}): {log_prob:.4f}\")\n",
    "    else:\n",
    "        print(\"  Không thể tính toán log probabilities (có thể do lỗi trong _predict_log_proba_single_bow).\")\n",
    "\n",
    "    if prediction_label == 1:\n",
    "        print(\"\\n>>> Dự đoán: Email này là SPAM.\")\n",
    "    elif prediction_label == 0:\n",
    "        print(\"\\n>>> Dự đoán: Email này là HAM.\")\n",
    "    else:\n",
    "        print(f\"\\n>>> Dự đoán: Nhãn không xác định ({prediction_label}).\")"
   ],
   "metadata": {
    "trusted": true,
    "execution": {
     "iopub.status.busy": "2025-06-15T01:17:08.051389Z",
     "iopub.execute_input": "2025-06-15T01:17:08.051591Z",
     "iopub.status.idle": "2025-06-15T01:17:08.057237Z",
     "shell.execute_reply.started": "2025-06-15T01:17:08.051577Z",
     "shell.execute_reply": "2025-06-15T01:17:08.056589Z"
    },
    "ExecuteTime": {
     "end_time": "2025-06-17T11:18:06.897875Z",
     "start_time": "2025-06-17T11:18:06.833313Z"
    }
   },
   "outputs": [],
   "execution_count": 94
  },
  {
   "cell_type": "code",
   "source": "# Ví dụ 1: SPAM\nprint(\"--- Thử nghiệm với email SPAM ---\")\nspam_subject = \"VIAGRA Special Offer, FREE trial, limited time only\"\nspam_message = \"Click here to claim your prize. Buy now cheap viagra pills. Winner confirmation.\"\npredict_single_email(model, preprocess_text, spam_subject, spam_message)",
   "metadata": {
    "trusted": true,
    "execution": {
     "iopub.status.busy": "2025-06-15T01:17:08.057820Z",
     "iopub.execute_input": "2025-06-15T01:17:08.057995Z",
     "iopub.status.idle": "2025-06-15T01:17:08.061932Z",
     "shell.execute_reply.started": "2025-06-15T01:17:08.057979Z",
     "shell.execute_reply": "2025-06-15T01:17:08.061105Z"
    },
    "ExecuteTime": {
     "end_time": "2025-06-17T11:18:09.972947Z",
     "start_time": "2025-06-17T11:18:09.784176Z"
    }
   },
   "outputs": [
    {
     "name": "stdout",
     "output_type": "stream",
     "text": [
      "--- Thử nghiệm với email SPAM ---\n",
      "\n",
      "Nội dung đã xử lý: 'viagra special offer, free trial, limited time only click here to claim your prize. buy now cheap viagra pills. winner confirmation.'\n",
      "Log probabilities cho các lớp:\n",
      "  Lớp Ham (0): -147.2428\n",
      "  Lớp Spam (1): -115.2543\n",
      "\n",
      ">>> Dự đoán: Email này là SPAM.\n"
     ]
    }
   ],
   "execution_count": 95
  },
  {
   "cell_type": "code",
   "source": "# Ví dụ 2: HAM\nprint(\"--- Thử nghiệm với email HAM ---\")\nham_subject = \"Re: Project Update\"\nham_message = \"Hi team, please see attached the weekly report. Let me know if you have any questions. Thanks.\"\npredict_single_email(model, preprocess_text, ham_subject, ham_message)",
   "metadata": {
    "trusted": true,
    "execution": {
     "iopub.status.busy": "2025-06-15T01:17:08.062603Z",
     "iopub.execute_input": "2025-06-15T01:17:08.062834Z",
     "iopub.status.idle": "2025-06-15T01:17:08.066922Z",
     "shell.execute_reply.started": "2025-06-15T01:17:08.062815Z",
     "shell.execute_reply": "2025-06-15T01:17:08.066336Z"
    },
    "ExecuteTime": {
     "end_time": "2025-06-17T11:18:15.516385Z",
     "start_time": "2025-06-17T11:18:15.496862Z"
    }
   },
   "outputs": [
    {
     "name": "stdout",
     "output_type": "stream",
     "text": [
      "--- Thử nghiệm với email HAM ---\n",
      "\n",
      "Nội dung đã xử lý: 're: project update hi team, please see attached the weekly report. let me know if you have any questions. thanks.'\n",
      "Log probabilities cho các lớp:\n",
      "  Lớp Ham (0): -99.9530\n",
      "  Lớp Spam (1): -108.6254\n",
      "\n",
      ">>> Dự đoán: Email này là HAM.\n"
     ]
    }
   ],
   "execution_count": 96
  },
  {
   "cell_type": "markdown",
   "source": "## Chức năng 2: Đọc và dự đoán file CSV",
   "metadata": {}
  },
  {
   "cell_type": "code",
   "source": [
    "def evaluate_csv_file(classifier, preprocessor, evaluation_function, file_path = None):\n",
    "    \"\"\"\n",
    "    Cho phép người dùng nhập tên file CSV, đọc file, tiền xử lý, dự đoán email đó là spam/ham và đánh giá kết quả.\n",
    "    classifier: Mô hình phân loại email\n",
    "    preprocessor: Hàm tiền xử lý\n",
    "    evaluation_function: Hàm đánh giá kết quả\n",
    "    \"\"\"\n",
    "    if len(classifier.classes_) == 0:\n",
    "        print(\"Error: Mô hình chưa được huấn luyện\")\n",
    "        return\n",
    "\n",
    "    if file_path is None:\n",
    "        file_path = input(\"Nhập đường dẫn đến file CSV: \")\n",
    "\n",
    "    try:\n",
    "        df_test = pd.read_csv(file_path)\n",
    "        print(f\"'{file_path}' đọc thành công, có {len(df_test)} dòng.\")\n",
    "\n",
    "        required_columns = ['Subject', 'Message', 'Spam/Ham']\n",
    "        if not all(col in df_test.columns for col in required_columns):\n",
    "            print(f\"Lỗi: File CSV phải chứa các cột: {', '.join(required_columns)}\")\n",
    "            return\n",
    "\n",
    "        # Tiền xử lý dữ liệu\n",
    "        df_test['Subject'] = df_test['Subject'].fillna('')\n",
    "        df_test['Message'] = df_test['Message'].fillna('')\n",
    "        df_test['full_text'] = df_test['Subject'] + \" \" + df_test['Message']\n",
    "        df_test['full_text'] = df_test['full_text'].apply(preprocessor)\n",
    "\n",
    "        # Đã định nghĩa phía trên: label_mapping = {'ham': 0, 'spam': 1}\n",
    "        label_mapping_for_eval = label_mapping\n",
    "        unknown_labels = df_test[~df_test['Spam/Ham'].isin(label_mapping_for_eval.keys())]['Spam/Ham'].unique()\n",
    "        if len(unknown_labels) > 0:\n",
    "            print(f\"Warning: Các nhãn không xác định trong cột 'Spam/Ham': {unknown_labels}\")\n",
    "        df_test['true_label'] = df_test['Spam/Ham'].map(label_mapping_for_eval)\n",
    "        \n",
    "        # Loại bỏ các dòng có nhãn không xác định: true_label = Nan\n",
    "        original_len = len(df_test)\n",
    "        df_test.dropna(subset=['true_label'], inplace=True)\n",
    "        if len(df_test) < original_len:\n",
    "            print(f\"Đã loại bỏ {original_len - len(df_test)} dòng với các nhãn không xác định.\")\n",
    "\n",
    "        if df_test.empty:\n",
    "            print(\"Không còn dữ liệu để đánh giá sau khi xử lý nhãn.\")\n",
    "            return\n",
    "        df_test['true_label'] = df_test['true_label'].astype(int)\n",
    "        \n",
    "        # Dự đoán kết quả bằng model\n",
    "        X = df_test['full_text']\n",
    "        y_true = df_test['true_label']\n",
    "        y_pred = classifier.predict(X)\n",
    "\n",
    "        # Đánh giá kết quả\n",
    "        print(f\"\\nĐánh giá kết quả file '{file_path}'...\")\n",
    "        if hasattr(evaluation_function, '__call__'):\n",
    "            if 'evaluate_model' in evaluation_function.__name__:\n",
    "                evaluation_function(y_true, y_pred, f\"CSV File: {file_path}\",\n",
    "                                     pos_label=1, neg_label=0,\n",
    "                                     class_labels=sorted(list(classifier.classes_)) if classifier.classes_.size > 0 else [0,1])\n",
    "            else:\n",
    "                 print('Không tìm thấy hàm đánh giá.')\n",
    "        else:\n",
    "            print(\"Hàm đánh giá không hợp lệ.\")\n",
    "\n",
    "\n",
    "    except FileNotFoundError:\n",
    "        print(f\"Error: Không tìm thấy file '{file_path}'.\")\n",
    "    except pd.errors.EmptyDataError:\n",
    "        print(f\"Error: File '{file_path}' rỗng.\")\n",
    "    except Exception as e:\n",
    "        print(f\"Đã xảy ra lỗi không mong muốn khi xử lý file CSV: {e}\")"
   ],
   "metadata": {
    "trusted": true,
    "execution": {
     "iopub.status.busy": "2025-06-15T01:17:08.067493Z",
     "iopub.execute_input": "2025-06-15T01:17:08.067648Z",
     "iopub.status.idle": "2025-06-15T01:17:08.075327Z",
     "shell.execute_reply.started": "2025-06-15T01:17:08.067636Z",
     "shell.execute_reply": "2025-06-15T01:17:08.074656Z"
    },
    "ExecuteTime": {
     "end_time": "2025-06-17T11:18:19.227477Z",
     "start_time": "2025-06-17T11:18:19.199078Z"
    }
   },
   "outputs": [],
   "execution_count": 97
  },
  {
   "cell_type": "code",
   "source": [
    "test_file_path = f'{base_file_path}/val.csv'\n",
    "evaluate_csv_file(model, preprocess_text, evaluate_model, test_file_path)"
   ],
   "metadata": {
    "trusted": true,
    "execution": {
     "iopub.status.busy": "2025-06-15T01:17:08.075797Z",
     "iopub.execute_input": "2025-06-15T01:17:08.075988Z",
     "iopub.status.idle": "2025-06-15T01:17:10.310770Z",
     "shell.execute_reply.started": "2025-06-15T01:17:08.075974Z",
     "shell.execute_reply": "2025-06-15T01:17:10.309981Z"
    },
    "ExecuteTime": {
     "end_time": "2025-06-17T11:18:24.634186Z",
     "start_time": "2025-06-17T11:18:22.203921Z"
    }
   },
   "outputs": [
    {
     "name": "stdout",
     "output_type": "stream",
     "text": [
      "'./val.csv' đọc thành công, có 3084 dòng.\n",
      "\n",
      "Đánh giá kết quả file './val.csv'...\n",
      "--- Kết quả đánh giá trên CSV File: ./val.csv ---\n",
      "Accuracy: 0.9841\n",
      "\n",
      "Metrics cho lớp Positive (1):\n",
      "  Precision: 0.9834\n",
      "  Recall: 0.9853\n",
      "  F1-Score: 0.9843\n",
      "\n",
      "Metrics cho lớp Negative (0):\n",
      "  Precision: 0.9848\n",
      "  Recall: 0.9829\n",
      "  F1-Score: 0.9839\n",
      "\n",
      "Ma trận nhầm lẫn:\n",
      "[[1495   26]\n",
      " [  23 1540]]\n"
     ]
    }
   ],
   "execution_count": 98
  }
 ]
}
